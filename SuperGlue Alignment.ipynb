{
 "cells": [
  {
   "cell_type": "markdown",
   "id": "554a6c60",
   "metadata": {},
   "source": [
    "# SuperGlue Alignment"
   ]
  },
  {
   "cell_type": "code",
   "execution_count": null,
   "id": "8c8f3fe5",
   "metadata": {},
   "outputs": [],
   "source": [
    "import numpy as np\n",
    "import cv2\n",
    "import os\n",
    "import matplotlib.pyplot as plt\n",
    "import jupyter_compare_view"
   ]
  },
  {
   "cell_type": "code",
   "execution_count": null,
   "id": "34fbdb98",
   "metadata": {},
   "outputs": [],
   "source": [
    "# https://stackoverflow.com/questions/7099290/how-to-ignore-hidden-files-using-os-listdir\n",
    "def listdir_nohidden(path):\n",
    "    for f in os.listdir(path):\n",
    "        if not f.startswith('.'):\n",
    "            yield f"
   ]
  },
  {
   "cell_type": "code",
   "execution_count": null,
   "id": "33c7e1b8",
   "metadata": {},
   "outputs": [],
   "source": [
    "# Feel free to edit as you like depending on where you put the files\n",
    "BASE_IMAGE_DIR = \"VIS_IR_DATASET\"\n",
    "SAVE_DIR = \"ALIGNED_DATASET\"\n",
    "\n",
    "os.makedirs(SAVE_DIR, exist_ok=True)"
   ]
  },
  {
   "cell_type": "code",
   "execution_count": null,
   "id": "78484ec4",
   "metadata": {
    "scrolled": false
   },
   "outputs": [],
   "source": [
    "fileNames = listdir_nohidden(BASE_IMAGE_DIR)\n",
    "filePairs = []\n",
    "for fileName in fileNames:\n",
    "    im = cv2.imread(f\"{BASE_IMAGE_DIR}/{fileName}\")\n",
    "    \n",
    "    # For simplicity only keep the file name, not extension\n",
    "    fileName = fileName.split('.')[0]\n",
    "    \n",
    "    # Rescale\n",
    "    rescale_percent = 0.5\n",
    "    width = int(im.shape[1] * rescale_percent)\n",
    "    height = int(im.shape[0] * rescale_percent)\n",
    "    dim = (width, height)\n",
    "    im = cv2.resize(im, dim, interpolation = cv2.INTER_AREA)\n",
    "    \n",
    "    # Split the side by side image into two halfs\n",
    "    im_ir = im[:, (im.shape[1]//2):, :]\n",
    "    im_vis = im[:, :(im.shape[1]//2), :]\n",
    "    \n",
    "    cv2.imwrite(f\"{SAVE_DIR}/{fileName}_ir.jpg\", im_ir)\n",
    "    cv2.imwrite(f\"{SAVE_DIR}/{fileName}_vis.jpg\", im_vis)\n",
    "    \n",
    "    filePairs.append([f\"{fileName}_ir.jpg\", f\"{fileName}_vis.jpg\"]) # Subject, Template\n",
    "\n",
    "# After done writing the individual images, write pairs.txt for SuperGlue\n",
    "with open(f\"{SAVE_DIR}/pairs.txt\", \"w\") as f:\n",
    "    for [vis, ir] in filePairs:\n",
    "        f.write(f\"{vis} {ir}\\n\")"
   ]
  },
  {
   "cell_type": "markdown",
   "id": "5adb48a6",
   "metadata": {},
   "source": [
    "# Run the SuperGlue match finder here: \n",
    "Using a command like this: ```./SuperGluePretrainedNetwork/match_pairs.py --resize 1640 1232 --superglue outdoor --max_keypoints 2048 --nms_radius 3  --resize_float --input_dir ALIGNED_DATASET --input_pairs ALIGNED_DATASET/pairs.txt  --output_dir ALIGNED_DATASET/superglue --viz```"
   ]
  },
  {
   "cell_type": "markdown",
   "id": "ca4dcf43",
   "metadata": {},
   "source": [
    "# Using the SuperGlue output to align images"
   ]
  },
  {
   "cell_type": "code",
   "execution_count": null,
   "id": "f9d410c8",
   "metadata": {},
   "outputs": [],
   "source": [
    "def combine_vis_ir(im_vis, im_ir, H, w, h, save_dir, file_name):\n",
    "    im_aligned = cv2.warpPerspective(im_ir, H, (w, h))\n",
    "    im_aligned_grey = cv2.cvtColor(im_aligned, cv2.COLOR_BGR2GRAY).reshape((im_vis.shape[0], im_vis.shape[1], 1))\n",
    "    im_combined = np.concatenate((im_vis, im_aligned_grey), axis=2)\n",
    "    os.makedirs(save_dir, exist_ok=True)\n",
    "    np.save(f\"{save_dir}/{file_name}\", im_combined)"
   ]
  },
  {
   "cell_type": "code",
   "execution_count": null,
   "id": "f41b0cff",
   "metadata": {},
   "outputs": [],
   "source": [
    "fileNames = listdir_nohidden(BASE_IMAGE_DIR)\n",
    "excludeList = [\"2021-11-15_22-59-29\", \"2021-11-15_22-59-51\", \"2021-11-15_22-59-54\", \"2021-11-15_22-56-31\"]\n",
    "filePairs = []\n",
    "\n",
    "for fileName in fileNames:\n",
    "    fileName = fileName.split(\".\")[0]\n",
    "    \n",
    "    if fileName in excludeList:\n",
    "        continue\n",
    "    \n",
    "    im_vis = cv2.imread(f\"{SAVE_DIR}/{fileName}_vis.jpg\")\n",
    "    im_ir = cv2.imread(f\"{SAVE_DIR}/{fileName}_ir.jpg\")\n",
    "    \n",
    "    npz = np.load(f\"{SAVE_DIR}/superglue/{fileName}_ir_{fileName}_vis_matches.npz\")\n",
    "    \n",
    "    best_idx = npz['match_confidence'] > 0.85\n",
    "    best_kpt0 = npz['keypoints0'][best_idx]\n",
    "    best_kpt1 = []\n",
    "    for i, idx in enumerate(best_idx):\n",
    "        if idx:\n",
    "            assert npz['matches'][i] != -1, \"Index was not found in match\"\n",
    "            best_kpt1.append(npz['keypoints1'][npz['matches'][i]])\n",
    "    best_kpt1 = np.array(best_kpt1)\n",
    "    \n",
    "    assert best_kpt0.shape == best_kpt1.shape, \\\n",
    "        f\"File: {fileName} failed, shape {best_kpt0.shape} is different from shape {best_kpt1.shape}\"\n",
    "    \n",
    "    assert best_kpt0.shape[0] >= 4, \\\n",
    "        f\"File: {fileName} failed, does not have at least 4 points. It has {best_kpt0.shape[0]} instead.\"\n",
    "    \n",
    "    (H, mask) = cv2.findHomography(best_kpt0, best_kpt1, method=cv2.RANSAC)\n",
    "    (h, w) = im_vis.shape[:2]\n",
    "    \n",
    "    combine_vis_ir(im_vis, im_ir, H, w, h, f\"{SAVE_DIR}/stacked/\", f\"{fileName}_combined.npy\")"
   ]
  },
  {
   "cell_type": "code",
   "execution_count": null,
   "id": "10b1c44d",
   "metadata": {},
   "outputs": [],
   "source": [
    "%%compare\n",
    "fig, ax1 = plt.subplots()\n",
    "ax1.axis(\"off\")\n",
    "ax1.imshow(cv2.cvtColor(im_vis, cv2.COLOR_BGR2RGB))\n",
    "\n",
    "# Align and convert the \n",
    "fig, ax2 = plt.subplots()\n",
    "ax2.axis(\"off\")\n",
    "aligned = cv2.warpPerspective(im_ir, H, (w, h))\n",
    "ax2.imshow(cv2.cvtColor(aligned, cv2.COLOR_BGR2RGB))"
   ]
  },
  {
   "cell_type": "markdown",
   "id": "d3937434",
   "metadata": {},
   "source": []
  }
 ],
 "metadata": {
  "kernelspec": {
   "display_name": "Python 3 (ipykernel)",
   "language": "python",
   "name": "python3"
  },
  "language_info": {
   "codemirror_mode": {
    "name": "ipython",
    "version": 3
   },
   "file_extension": ".py",
   "mimetype": "text/x-python",
   "name": "python",
   "nbconvert_exporter": "python",
   "pygments_lexer": "ipython3",
   "version": "3.10.7"
  }
 },
 "nbformat": 4,
 "nbformat_minor": 5
}
